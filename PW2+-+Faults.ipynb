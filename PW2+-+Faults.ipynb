{
 "cells": [
  {
   "attachments": {},
   "cell_type": "markdown",
   "metadata": {},
   "source": [
    "# PowerWorld Problem 2 - Maximum Design Faults \n",
    "# and Circuit Breaker Design\n",
    "Author: David Stump, PE\n",
    "\n",
    "This Jupyter notebook, written in Python, is a supplement to the PowerWorld project problem 2 as required as part of EE 443 at the University of Southern California in the fall of 2017. The problem is based off of Example 7.6 from Glover's 6th Edition of Power System Analysis and Design. \n",
    "<img src=\"original circuit.png\",width=300>\n"
   ]
  },
  {
   "cell_type": "code",
   "execution_count": 2,
   "metadata": {
    "collapsed": true
   },
   "outputs": [],
   "source": [
    "import numpy as np\n",
    "import pandas as pd "
   ]
  },
  {
   "cell_type": "markdown",
   "metadata": {},
   "source": [
    "### Definition of Givens\n"
   ]
  },
  {
   "cell_type": "code",
   "execution_count": 3,
   "metadata": {
    "collapsed": true
   },
   "outputs": [],
   "source": [
    "X_TL54 = 0.00025j # PU transmission line impedance from bus 5 to bus 4\n",
    "X_TL52 = 0.0005j # PU transmission line impedance from bus 5 to bus 2\n",
    "X_TL42B = 0.001j # PU transmission line impedance from bus 4 to bus 2, circuit breaker B\n",
    "X_TL42C = 0.00075j # PU transmission line impedance from bus 4 to bus 2, circuit breaker C\n",
    "X_T1 = 0.0002j # PU internal impedance of Transformer 1\n",
    "X_T2 = 0.0001j # PU internal impedance of Transformer 1\n",
    "X_G1 = 0.045j # PU internal impedance of Generator 1\n",
    "X_G2 = 0.0225j # PU internal impedance of Generator 2"
   ]
  },
  {
   "cell_type": "markdown",
   "metadata": {},
   "source": [
    "### Delta to Wye Conversion\n",
    "Both of the superposition cases will require the delta structure $X_{TL52}$, $X_{TL54}$, and $X_{TL42B}$ to be transformed to a wye so that we can simplify the structure and fine $X_{TH}$.\n"
   ]
  },
  {
   "cell_type": "code",
   "execution_count": 4,
   "metadata": {
    "collapsed": true
   },
   "outputs": [],
   "source": [
    "Z_sum = X_TL52+X_TL54+X_TL42B\n",
    "Z1 = X_TL52*X_TL54/Z_sum\n",
    "Z2 = X_TL52*X_TL42B/Z_sum\n",
    "Z3 = X_TL54*X_TL42B/Z_sum"
   ]
  },
  {
   "cell_type": "code",
   "execution_count": 5,
   "metadata": {},
   "outputs": [
    {
     "data": {
      "text/plain": [
       "7.142857142857142e-05j"
      ]
     },
     "execution_count": 5,
     "metadata": {},
     "output_type": "execute_result"
    }
   ],
   "source": [
    "Z1"
   ]
  },
  {
   "cell_type": "code",
   "execution_count": 6,
   "metadata": {},
   "outputs": [
    {
     "data": {
      "text/plain": [
       "0.0002857142857142857j"
      ]
     },
     "execution_count": 6,
     "metadata": {},
     "output_type": "execute_result"
    }
   ],
   "source": [
    "Z2"
   ]
  },
  {
   "cell_type": "code",
   "execution_count": 7,
   "metadata": {},
   "outputs": [
    {
     "data": {
      "text/plain": [
       "0.00014285714285714284j"
      ]
     },
     "execution_count": 7,
     "metadata": {},
     "output_type": "execute_result"
    }
   ],
   "source": [
    "Z3"
   ]
  },
  {
   "cell_type": "markdown",
   "metadata": {},
   "source": [
    "### PU Analysis Table\n",
    "This per unit analysis table is required for both superposition cases as well. "
   ]
  },
  {
   "cell_type": "code",
   "execution_count": 8,
   "metadata": {
    "collapsed": true
   },
   "outputs": [],
   "source": [
    "S = 1*10**6 #VA\n",
    "V_B1 = 15000. #volts\n",
    "V_B2 = 15000. #volts\n",
    "V_B3 = 345000. #volts"
   ]
  },
  {
   "cell_type": "code",
   "execution_count": 9,
   "metadata": {
    "scrolled": true
   },
   "outputs": [
    {
     "data": {
      "text/html": [
       "<div>\n",
       "<table border=\"1\" class=\"dataframe\">\n",
       "  <thead>\n",
       "    <tr style=\"text-align: right;\">\n",
       "      <th></th>\n",
       "      <th>S_Base</th>\n",
       "      <th>V_Base</th>\n",
       "      <th>Zone</th>\n",
       "      <th>I_Base</th>\n",
       "      <th>Z_Base</th>\n",
       "      <th>V_Op</th>\n",
       "    </tr>\n",
       "  </thead>\n",
       "  <tbody>\n",
       "    <tr>\n",
       "      <th>0</th>\n",
       "      <td>1000000</td>\n",
       "      <td>15000.0</td>\n",
       "      <td>One</td>\n",
       "      <td>38.490018</td>\n",
       "      <td>225.0</td>\n",
       "      <td>15750.0</td>\n",
       "    </tr>\n",
       "    <tr>\n",
       "      <th>1</th>\n",
       "      <td>1000000</td>\n",
       "      <td>15000.0</td>\n",
       "      <td>Two</td>\n",
       "      <td>38.490018</td>\n",
       "      <td>225.0</td>\n",
       "      <td>15750.0</td>\n",
       "    </tr>\n",
       "    <tr>\n",
       "      <th>2</th>\n",
       "      <td>1000000</td>\n",
       "      <td>345000.0</td>\n",
       "      <td>Three</td>\n",
       "      <td>1.673479</td>\n",
       "      <td>119025.0</td>\n",
       "      <td>362250.0</td>\n",
       "    </tr>\n",
       "  </tbody>\n",
       "</table>\n",
       "</div>"
      ],
      "text/plain": [
       "    S_Base    V_Base   Zone     I_Base    Z_Base      V_Op\n",
       "0  1000000   15000.0    One  38.490018     225.0   15750.0\n",
       "1  1000000   15000.0    Two  38.490018     225.0   15750.0\n",
       "2  1000000  345000.0  Three   1.673479  119025.0  362250.0"
      ]
     },
     "execution_count": 9,
     "metadata": {},
     "output_type": "execute_result"
    }
   ],
   "source": [
    "pu_df2 = pd.DataFrame({ 'Zone' : ['One','Two','Three'],'S_Base' : [S,S,S], 'V_Base' : [V_B1, V_B2, V_B3]})\n",
    "pu_df2['I_Base'] = pu_df2['S_Base']/(np.sqrt(3)*pu_df2['V_Base']) # the base current per zone\n",
    "pu_df2['Z_Base'] = pu_df2['V_Base']**2/pu_df2['S_Base'] # the base resistance per zone\n",
    "pu_df2['V_Op'] = pu_df2['V_Base']*1.05 # the operating voltage per zone. Note it is 5% above V_Base\n",
    "pu_df2 # the per zone dataframe for the PU analysis\n"
   ]
  },
  {
   "cell_type": "markdown",
   "metadata": {},
   "source": [
    "## Simplification of the Network"
   ]
  },
  {
   "attachments": {},
   "cell_type": "markdown",
   "metadata": {},
   "source": [
    "### Superposition Case 1\n",
    "In the first case we will disable the first generator and solve for the total short circuit current. We will still have to solve the original circuit with the delta configuration to find the current values in the tranmission lines. \n",
    "<img src=\"superposition case 1.png\",width=400>\n"
   ]
  },
  {
   "cell_type": "code",
   "execution_count": null,
   "metadata": {
    "collapsed": true
   },
   "outputs": [],
   "source": [
    "a1 = X_G1+X_T1+Z1\n",
    "d1 = 1/(1/X_TL42B+1/X_TL42C+1/(X_T2+X_G2))\n",
    "b1 = Z3 + d1                \n",
    "c1 = 1/(1/Z2+1/b1) "
   ]
  },
  {
   "cell_type": "code",
   "execution_count": 11,
   "metadata": {},
   "outputs": [
    {
     "data": {
      "text/plain": [
       "0.04546101022750991j"
      ]
     },
     "execution_count": 11,
     "metadata": {},
     "output_type": "execute_result"
    }
   ],
   "source": [
    "X_eq1 = a1+c1\n",
    "X_eq1 #pu"
   ]
  },
  {
   "cell_type": "code",
   "execution_count": 12,
   "metadata": {},
   "outputs": [
    {
     "data": {
      "text/html": [
       "<div>\n",
       "<table border=\"1\" class=\"dataframe\">\n",
       "  <thead>\n",
       "    <tr style=\"text-align: right;\">\n",
       "      <th></th>\n",
       "      <th>S_Base</th>\n",
       "      <th>V_Base</th>\n",
       "      <th>Zone</th>\n",
       "      <th>I_Base</th>\n",
       "      <th>Z_Base</th>\n",
       "      <th>V_Op</th>\n",
       "      <th>I_sc_pu_1</th>\n",
       "      <th>I_sc_1</th>\n",
       "    </tr>\n",
       "  </thead>\n",
       "  <tbody>\n",
       "    <tr>\n",
       "      <th>0</th>\n",
       "      <td>1000000</td>\n",
       "      <td>15000.0</td>\n",
       "      <td>One</td>\n",
       "      <td>38.490018</td>\n",
       "      <td>225.0</td>\n",
       "      <td>15750.0</td>\n",
       "      <td>-23.0967150696j</td>\n",
       "      <td>-888.992977521j</td>\n",
       "    </tr>\n",
       "    <tr>\n",
       "      <th>1</th>\n",
       "      <td>1000000</td>\n",
       "      <td>15000.0</td>\n",
       "      <td>Two</td>\n",
       "      <td>38.490018</td>\n",
       "      <td>225.0</td>\n",
       "      <td>15750.0</td>\n",
       "      <td>-23.0967150696j</td>\n",
       "      <td>-888.992977521j</td>\n",
       "    </tr>\n",
       "    <tr>\n",
       "      <th>2</th>\n",
       "      <td>1000000</td>\n",
       "      <td>345000.0</td>\n",
       "      <td>Three</td>\n",
       "      <td>1.673479</td>\n",
       "      <td>119025.0</td>\n",
       "      <td>362250.0</td>\n",
       "      <td>-23.0967150696j</td>\n",
       "      <td>-38.6518685879j</td>\n",
       "    </tr>\n",
       "  </tbody>\n",
       "</table>\n",
       "</div>"
      ],
      "text/plain": [
       "    S_Base    V_Base   Zone     I_Base    Z_Base      V_Op        I_sc_pu_1  \\\n",
       "0  1000000   15000.0    One  38.490018     225.0   15750.0  -23.0967150696j   \n",
       "1  1000000   15000.0    Two  38.490018     225.0   15750.0  -23.0967150696j   \n",
       "2  1000000  345000.0  Three   1.673479  119025.0  362250.0  -23.0967150696j   \n",
       "\n",
       "            I_sc_1  \n",
       "0  -888.992977521j  \n",
       "1  -888.992977521j  \n",
       "2  -38.6518685879j  "
      ]
     },
     "execution_count": 12,
     "metadata": {},
     "output_type": "execute_result"
    }
   ],
   "source": [
    "pu_df2['I_sc_pu_1'] = 1.05/(X_eq1)\n",
    "pu_df2['I_sc_1'] = pu_df2['I_sc_pu_1']*pu_df2['I_Base']\n",
    "pu_df2"
   ]
  },
  {
   "cell_type": "code",
   "execution_count": 13,
   "metadata": {},
   "outputs": [
    {
     "data": {
      "text/plain": [
       "-23.09671506957871j"
      ]
     },
     "execution_count": 13,
     "metadata": {},
     "output_type": "execute_result"
    }
   ],
   "source": [
    "I_sc_pu_1 = pu_df2.get_value(2,'I_sc_pu_1')\n",
    "I_sc_pu_1 #pu"
   ]
  },
  {
   "attachments": {},
   "cell_type": "markdown",
   "metadata": {},
   "source": [
    "### Current Divider: Superposition Case 1\n",
    "Now we have to resolve the first case with the original structure to find the current in the transmission lines. \n",
    "<img src=\"current divider case 1.png\",width=400>\n"
   ]
  },
  {
   "cell_type": "code",
   "execution_count": 33,
   "metadata": {
    "collapsed": true
   },
   "outputs": [],
   "source": [
    "def parallel(*args):\n",
    "    \"\"\"\n",
    "    This is a function that returns the value of an unknown number of parallel\n",
    "    impedances. \n",
    "    \"\"\"\n",
    "    Z=[None]*len(args)\n",
    "    for i in np.arange(len(args)):\n",
    "        Z[i]=1/args[i]\n",
    "    return(1/sum(Z))"
   ]
  },
  {
   "cell_type": "code",
   "execution_count": 35,
   "metadata": {
    "scrolled": true
   },
   "outputs": [
    {
     "data": {
      "text/plain": [
       "(-0+0.00028643349231584526j)"
      ]
     },
     "execution_count": 35,
     "metadata": {},
     "output_type": "execute_result"
    }
   ],
   "source": [
    "X_isc_A1_pu = parallel(X_TL52,(X_TL54+parallel(X_G2+X_T2, X_TL42B, X_TL42C)))\n",
    "X_isc_A1_pu"
   ]
  },
  {
   "cell_type": "code",
   "execution_count": 36,
   "metadata": {},
   "outputs": [
    {
     "data": {
      "text/plain": [
       "-13.231345516806883j"
      ]
     },
     "execution_count": 36,
     "metadata": {},
     "output_type": "execute_result"
    }
   ],
   "source": [
    "I_sc_A1_pu = I_sc_pu_1*X_isc_A1_pu/X_TL52\n",
    "I_sc_A1_pu"
   ]
  },
  {
   "cell_type": "code",
   "execution_count": 44,
   "metadata": {},
   "outputs": [
    {
     "data": {
      "text/plain": [
       "-5.5324404936139775j"
      ]
     },
     "execution_count": 44,
     "metadata": {},
     "output_type": "execute_result"
    }
   ],
   "source": [
    "I_sc_B1_pu = ((I_sc_pu_1-I_sc_A1_pu)*parallel(X_G2+X_T2, X_TL42B, X_TL42C)/\n",
    "              X_TL42C)\n",
    "I_sc_B1_pu #pu"
   ]
  },
  {
   "cell_type": "code",
   "execution_count": 45,
   "metadata": {},
   "outputs": [
    {
     "data": {
      "text/plain": [
       "-4.1493303702104836j"
      ]
     },
     "execution_count": 45,
     "metadata": {},
     "output_type": "execute_result"
    }
   ],
   "source": [
    "I_sc_C1_pu = ((I_sc_pu_1-I_sc_A1_pu)*parallel(X_G2+X_T2, X_TL42B, X_TL42C)/\n",
    "              X_TL42B)\n",
    "I_sc_C1_pu #pu"
   ]
  },
  {
   "attachments": {},
   "cell_type": "markdown",
   "metadata": {
    "collapsed": true
   },
   "source": [
    "## Superposition Case 2\n",
    "In the second superposition case, I have disabled the first generator and converted the delta to a wye. \n",
    "<img src=\"superposition case 2.png\",width=400>\n",
    "\n",
    "### PU Analysis Table"
   ]
  },
  {
   "cell_type": "code",
   "execution_count": 18,
   "metadata": {},
   "outputs": [
    {
     "data": {
      "text/plain": [
       "0.022813836807374043j"
      ]
     },
     "execution_count": 18,
     "metadata": {},
     "output_type": "execute_result"
    }
   ],
   "source": [
    "a2 = X_G2+X_T2\n",
    "b2 = Z3+1/(1/Z2+1/a1)\n",
    "c2 = 1/(1/X_TL42B+1/X_TL42C+1/b2)\n",
    "d2 = 1/(1/a1+1/Z2)\n",
    "X_eq2 = a2 + c2\n",
    "X_eq2 #pu"
   ]
  },
  {
   "cell_type": "code",
   "execution_count": 20,
   "metadata": {
    "scrolled": true
   },
   "outputs": [
    {
     "data": {
      "text/html": [
       "<div>\n",
       "<table border=\"1\" class=\"dataframe\">\n",
       "  <thead>\n",
       "    <tr style=\"text-align: right;\">\n",
       "      <th></th>\n",
       "      <th>S_Base</th>\n",
       "      <th>V_Base</th>\n",
       "      <th>Zone</th>\n",
       "      <th>I_Base</th>\n",
       "      <th>Z_Base</th>\n",
       "      <th>V_Op</th>\n",
       "      <th>I_sc_pu_1</th>\n",
       "      <th>I_sc_1</th>\n",
       "      <th>I_sc_pu_2</th>\n",
       "      <th>I_sc_2</th>\n",
       "    </tr>\n",
       "  </thead>\n",
       "  <tbody>\n",
       "    <tr>\n",
       "      <th>0</th>\n",
       "      <td>1000000</td>\n",
       "      <td>15000.0</td>\n",
       "      <td>One</td>\n",
       "      <td>38.490018</td>\n",
       "      <td>225.0</td>\n",
       "      <td>15750.0</td>\n",
       "      <td>-23.0967150696j</td>\n",
       "      <td>-888.992977521j</td>\n",
       "      <td>-46.0247002232j</td>\n",
       "      <td>-1771.49153755j</td>\n",
       "    </tr>\n",
       "    <tr>\n",
       "      <th>1</th>\n",
       "      <td>1000000</td>\n",
       "      <td>15000.0</td>\n",
       "      <td>Two</td>\n",
       "      <td>38.490018</td>\n",
       "      <td>225.0</td>\n",
       "      <td>15750.0</td>\n",
       "      <td>-23.0967150696j</td>\n",
       "      <td>-888.992977521j</td>\n",
       "      <td>-46.0247002232j</td>\n",
       "      <td>-1771.49153755j</td>\n",
       "    </tr>\n",
       "    <tr>\n",
       "      <th>2</th>\n",
       "      <td>1000000</td>\n",
       "      <td>345000.0</td>\n",
       "      <td>Three</td>\n",
       "      <td>1.673479</td>\n",
       "      <td>119025.0</td>\n",
       "      <td>362250.0</td>\n",
       "      <td>-23.0967150696j</td>\n",
       "      <td>-38.6518685879j</td>\n",
       "      <td>-46.0247002232j</td>\n",
       "      <td>-77.0213711978j</td>\n",
       "    </tr>\n",
       "  </tbody>\n",
       "</table>\n",
       "</div>"
      ],
      "text/plain": [
       "    S_Base    V_Base   Zone     I_Base    Z_Base      V_Op        I_sc_pu_1  \\\n",
       "0  1000000   15000.0    One  38.490018     225.0   15750.0  -23.0967150696j   \n",
       "1  1000000   15000.0    Two  38.490018     225.0   15750.0  -23.0967150696j   \n",
       "2  1000000  345000.0  Three   1.673479  119025.0  362250.0  -23.0967150696j   \n",
       "\n",
       "            I_sc_1        I_sc_pu_2           I_sc_2  \n",
       "0  -888.992977521j  -46.0247002232j  -1771.49153755j  \n",
       "1  -888.992977521j  -46.0247002232j  -1771.49153755j  \n",
       "2  -38.6518685879j  -46.0247002232j  -77.0213711978j  "
      ]
     },
     "execution_count": 20,
     "metadata": {},
     "output_type": "execute_result"
    }
   ],
   "source": [
    "pu_df2['I_sc_pu_2'] = 1.05/(X_eq2)\n",
    "pu_df2['I_sc_2'] = pu_df2['I_sc_pu_2']*pu_df2['I_Base']\n",
    "pu_df2"
   ]
  },
  {
   "cell_type": "code",
   "execution_count": 21,
   "metadata": {},
   "outputs": [
    {
     "data": {
      "text/plain": [
       "-46.02470022318262j"
      ]
     },
     "execution_count": 21,
     "metadata": {},
     "output_type": "execute_result"
    }
   ],
   "source": [
    "I_sc_pu_2 = pu_df2.get_value(2,'I_sc_pu_2')\n",
    "I_sc_pu_2 #pu"
   ]
  },
  {
   "attachments": {},
   "cell_type": "markdown",
   "metadata": {},
   "source": [
    "### Current Divider: Superposition Case 2\n",
    "Now that we have the total current through the circuit, we can use the current divider method to solve for the currents in the transmission lines. \n",
    "<img src=\"current divider case 2.png\",width=400>"
   ]
  },
  {
   "cell_type": "code",
   "execution_count": 43,
   "metadata": {},
   "outputs": [
    {
     "data": {
      "text/plain": [
       "-16.691657318966502j"
      ]
     },
     "execution_count": 43,
     "metadata": {},
     "output_type": "execute_result"
    }
   ],
   "source": [
    "I_sc_C2_pu = (I_sc_pu_2*parallel(X_TL42C, X_TL42B, X_TL54+\n",
    "                                 parallel(X_G1+X_T1, X_TL52))/X_TL42C)\n",
    "I_sc_C2_pu #pu"
   ]
  },
  {
   "cell_type": "code",
   "execution_count": 46,
   "metadata": {},
   "outputs": [
    {
     "data": {
      "text/plain": [
       "-12.518742989224878j"
      ]
     },
     "execution_count": 46,
     "metadata": {},
     "output_type": "execute_result"
    }
   ],
   "source": [
    "I_sc_B2_pu = (I_sc_pu_2*parallel(X_TL42C, X_TL42B, X_TL54+\n",
    "                                 parallel(X_G1+X_T1, X_TL52))/X_TL42B)\n",
    "I_sc_B2_pu #pu"
   ]
  },
  {
   "cell_type": "code",
   "execution_count": 47,
   "metadata": {},
   "outputs": [
    {
     "data": {
      "text/plain": [
       "-16.63033602095414j"
      ]
     },
     "execution_count": 47,
     "metadata": {},
     "output_type": "execute_result"
    }
   ],
   "source": [
    "\n",
    "I_sc_A2_pu = ((I_sc_pu_2-I_sc_B2_pu - I_sc_C2_pu)*\n",
    "              parallel(X_G1+X_T1, X_TL52)/X_TL52)\n",
    "I_sc_A2_pu #pu"
   ]
  },
  {
   "cell_type": "markdown",
   "metadata": {},
   "source": [
    "### Composition of the two cases"
   ]
  },
  {
   "cell_type": "code",
   "execution_count": 48,
   "metadata": {},
   "outputs": [
    {
     "data": {
      "text/plain": [
       "-29.861681537761022j"
      ]
     },
     "execution_count": 48,
     "metadata": {},
     "output_type": "execute_result"
    }
   ],
   "source": [
    "I_sc_A = I_sc_A1_pu + I_sc_A2_pu\n",
    "I_sc_A"
   ]
  },
  {
   "cell_type": "code",
   "execution_count": 49,
   "metadata": {},
   "outputs": [
    {
     "data": {
      "text/plain": [
       "-18.051183482838855j"
      ]
     },
     "execution_count": 49,
     "metadata": {},
     "output_type": "execute_result"
    }
   ],
   "source": [
    "I_sc_B = I_sc_B1_pu + I_sc_B2_pu\n",
    "I_sc_B"
   ]
  },
  {
   "cell_type": "code",
   "execution_count": 50,
   "metadata": {},
   "outputs": [
    {
     "data": {
      "text/plain": [
       "-20.840987689176984j"
      ]
     },
     "execution_count": 50,
     "metadata": {},
     "output_type": "execute_result"
    }
   ],
   "source": [
    "I_sc_C = I_sc_C1_pu + I_sc_C2_pu\n",
    "I_sc_C"
   ]
  },
  {
   "cell_type": "code",
   "execution_count": 51,
   "metadata": {},
   "outputs": [
    {
     "data": {
      "text/plain": [
       "-68.753852709776865j"
      ]
     },
     "execution_count": 51,
     "metadata": {},
     "output_type": "execute_result"
    }
   ],
   "source": [
    "I_sc = I_sc_A+I_sc_B+I_sc_C\n",
    "I_sc"
   ]
  },
  {
   "cell_type": "markdown",
   "metadata": {
    "collapsed": true
   },
   "source": [
    "### Calculation of Actual Currents"
   ]
  },
  {
   "cell_type": "code",
   "execution_count": 53,
   "metadata": {},
   "outputs": [
    {
     "data": {
      "text/plain": [
       "-49.972898186322332j"
      ]
     },
     "execution_count": 53,
     "metadata": {},
     "output_type": "execute_result"
    }
   ],
   "source": [
    "I_sc_A_actual = I_sc_A*pu_df2.get_value(2, 'I_Base')\n",
    "I_sc_A_actual"
   ]
  },
  {
   "cell_type": "code",
   "execution_count": 54,
   "metadata": {},
   "outputs": [
    {
     "data": {
      "text/plain": [
       "-30.208277226111129j"
      ]
     },
     "execution_count": 54,
     "metadata": {},
     "output_type": "execute_result"
    }
   ],
   "source": [
    "I_sc_B_actual = I_sc_B*pu_df2.get_value(2, 'I_Base')\n",
    "I_sc_B_actual"
   ]
  },
  {
   "cell_type": "code",
   "execution_count": 55,
   "metadata": {},
   "outputs": [
    {
     "data": {
      "text/plain": [
       "-34.876956094272487j"
      ]
     },
     "execution_count": 55,
     "metadata": {},
     "output_type": "execute_result"
    }
   ],
   "source": [
    "I_sc_C_actual = I_sc_C*pu_df2.get_value(2, 'I_Base')\n",
    "I_sc_C_actual"
   ]
  },
  {
   "cell_type": "code",
   "execution_count": null,
   "metadata": {
    "collapsed": true
   },
   "outputs": [],
   "source": []
  }
 ],
 "metadata": {
  "kernelspec": {
   "display_name": "Python 3.6",
   "language": "python",
   "name": "python36"
  },
  "language_info": {
   "codemirror_mode": {
    "name": "ipython",
    "version": 3
   },
   "file_extension": ".py",
   "mimetype": "text/x-python",
   "name": "python",
   "nbconvert_exporter": "python",
   "pygments_lexer": "ipython3",
   "version": "3.6.0"
  }
 },
 "nbformat": 4,
 "nbformat_minor": 2
}
